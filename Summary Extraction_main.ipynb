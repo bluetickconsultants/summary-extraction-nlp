{
 "cells": [
  {
   "cell_type": "code",
   "execution_count": 20,
   "id": "c56f9aa8",
   "metadata": {},
   "outputs": [],
   "source": [
    "import nltk\n",
    "from newspaper import Article\n",
    "import spacy\n",
    "import string \n",
    "from spacy.lang.en.stop_words import STOP_WORDS\n"
   ]
  },
  {
   "cell_type": "code",
   "execution_count": 21,
   "id": "09793ffd",
   "metadata": {},
   "outputs": [],
   "source": [
    "stopwords = list(STOP_WORDS)\n",
    "\n"
   ]
  },
  {
   "cell_type": "code",
   "execution_count": 22,
   "id": "911ce92e",
   "metadata": {},
   "outputs": [],
   "source": [
    "nlp1 = spacy.load('en_core_web_sm')"
   ]
  },
  {
   "cell_type": "code",
   "execution_count": 23,
   "id": "81d82e6a",
   "metadata": {},
   "outputs": [],
   "source": [
    "import string\n",
    "from string import punctuation"
   ]
  },
  {
   "cell_type": "code",
   "execution_count": 24,
   "id": "970fc8e7",
   "metadata": {},
   "outputs": [
    {
     "data": {
      "text/plain": [
       "'!\"#$%&\\'()*+,-./:;<=>?@[\\\\]^_`{|}~\\n'"
      ]
     },
     "execution_count": 24,
     "metadata": {},
     "output_type": "execute_result"
    }
   ],
   "source": [
    "punctuation = punctuation + '\\n'\n",
    "punctuation"
   ]
  },
  {
   "cell_type": "code",
   "execution_count": 25,
   "id": "cd73f8a4",
   "metadata": {},
   "outputs": [],
   "source": [
    "from heapq import nlargest"
   ]
  },
  {
   "cell_type": "code",
   "execution_count": 26,
   "id": "1b068f5c",
   "metadata": {},
   "outputs": [],
   "source": [
    "import re "
   ]
  },
  {
   "cell_type": "code",
   "execution_count": 51,
   "id": "991e111d",
   "metadata": {},
   "outputs": [],
   "source": [
    "output = []\n",
    "def fun(url):\n",
    "    reg = Article(url)\n",
    "    reg.download()\n",
    "    reg.parse()\n",
    "    reg.download(\"punkt\")\n",
    "    reg.nlp()\n",
    "    print()\n",
    "    text = reg.text\n",
    "    doc = nlp1(text)\n",
    "    word_frequencies = {}\n",
    "    for i in doc:\n",
    "        if i.text.lower() not in stopwords:\n",
    "            if i.text.lower() not in punctuation:\n",
    "                if i.text not in word_frequencies.keys():\n",
    "                    word_frequencies[i.text] = 1\n",
    "                else:\n",
    "                    word_frequencies[i.text] += 1\n",
    "    max_frequency = max(word_frequencies.values())\n",
    "    for j in word_frequencies.keys():\n",
    "        word_frequencies[j] = word_frequencies[j] / max_frequency\n",
    "    sentence_tokens = [sent for sent in doc.sents]\n",
    "    sentence_scores = {}\n",
    "    for sent in sentence_tokens:\n",
    "        for word in sent:\n",
    "            if word.text.lower() in word_frequencies.keys():\n",
    "                if sent not in sentence_scores.keys():\n",
    "                    sentence_scores[sent] = word_frequencies[word.text.lower()]\n",
    "                else:\n",
    "                    sentence_scores[sent] += word_frequencies[word.text.lower()]\n",
    "    select_length = int(len(sentence_tokens)*0.3)\n",
    "    summary = nlargest(select_length , sentence_scores , key = sentence_scores.get)\n",
    "    final_summary = [word.text for word in summary]\n",
    "    summary_main = ' '.join(final_summary)\n",
    "    print(\"-----Before Cleaning-----\")\n",
    "    print()\n",
    "    print(summary_main)\n",
    "    review = re.sub('http\\S+\\s*', ' ', summary_main)  \n",
    "    review = re.sub('RT|cc', '', review)  \n",
    "    review = re.sub('#\\S+', ' ', review)\n",
    "    review = re.sub('@\\S+', ' ', review) \n",
    "    review = re.sub('[%s]' % re.escape(\"\"\"!\"#%&'()*+,/;<=>?@[\\]^_`{|}~”“\"\"\"), '', review)  # remove punctuations\n",
    "    review = re.sub('\\s+', ' ', review)  # remove extra whitespace\n",
    "    # review = review.lower()\n",
    "    review = review.split()\n",
    "    #review = [lemma.lemmatize(word) for word in review if not word in stopwords.words(\"english\")]\n",
    "    review = ' '.join(review)\n",
    "    output.append(review)\n",
    "    print()\n",
    "\n",
    "    print(\"------------------------- data cleaned summary -----------------\")\n",
    "    print()\n",
    "    print(output)\n",
    "\n"
   ]
  },
  {
   "cell_type": "code",
   "execution_count": 52,
   "id": "4c98c2c7",
   "metadata": {},
   "outputs": [],
   "source": [
    "url = \"https://timesofindia.indiatimes.com/city/delhi/work-on-dwarka-e-way-to-resume-in-november-after-7-month-break/articleshow/87244997.cms\""
   ]
  },
  {
   "cell_type": "code",
   "execution_count": 53,
   "id": "56de5b61",
   "metadata": {},
   "outputs": [
    {
     "name": "stdout",
     "output_type": "stream",
     "text": [
      "\n",
      "-----Before Cleaning-----\n",
      "\n",
      "During a visit to Gurugram last month to inspect the work on the Delhi-Mumbai expressway, Union Minister Nitin Gadkari had said the Dwarka Expressway was expected to be ready in 2022.The Rs 9,000-crore expressway, first conceptualised in 2007 as a northern ring road between Gurugram and Delhi, promises to not only decongest traffic on the existing Delhi-Gurugram expressway but also ensure better connectivity between Dwarka and parts of south Delhi. On March 28, work on the expressway was suspended after an “under erection span and adjoining span”, located between piers number 107 and 108, and piers number 108 and 109, collapsed leaving three labourers injured. Seven months after construction on the main carriageway of the Dwarka Expressway was halted when a section of the under-construction elevated road collapsed, the National Highways Authority of India NHAI ) said it was likely to resume work on the project next month. Officials stated that “overall” it had been found that there was a need to “improve workmanship” on the project with multiple aspects, “from material quality to costing to operation”, that led to the mishap. “(The) authority has viewed the incident seriously and pending the outcome of the investigation by the committee, the concerned key personnel of the contractor M/s L&T and Supervision Consultant M/s AECOM have been suspended as per Standard Operating Procedure (SOP) of NHAI,” a statement issued by the NHAI had stated.\n",
      "\n",
      "------------------------- data cleaned summary -----------------\n",
      "\n",
      "['During a visit to Gurugram last month to inspect the work on the Delhi-Mumbai expressway Union Minister Nitin Gadkari had said the Dwarka Expressway was expected to be ready in 2022.The Rs 9000-crore expressway first conceptualised in 2007 as a northern ring road between Gurugram and Delhi promises to not only decongest traffic on the existing Delhi-Gurugram expressway but also ensure better connectivity between Dwarka and parts of south Delhi. On March 28 work on the expressway was suspended after an under erection span and adjoining span located between piers number 107 and 108 and piers number 108 and 109 collapsed leaving three labourers injured. Seven months after construction on the main carriageway of the Dwarka Expressway was halted when a section of the under-construction elevated road collapsed the National Highways Authority of India NHAI said it was likely to resume work on the project next month. Officials stated that overall it had been found that there was a need to improve workmanship on the project with multiple aspects from material quality to costing to operation that led to the mishap. The authority has viewed the incident seriously and pending the outcome of the investigation by the committee the concerned key personnel of the contractor Ms LT and Supervision Consultant Ms AECOM have been suspended as per Standard Operating Procedure SOP of NHAI a statement issued by the NHAI had stated.']\n"
     ]
    }
   ],
   "source": [
    "fun(url)"
   ]
  },
  {
   "cell_type": "code",
   "execution_count": null,
   "id": "eb75bcc7",
   "metadata": {},
   "outputs": [],
   "source": []
  },
  {
   "cell_type": "code",
   "execution_count": null,
   "id": "6c731873",
   "metadata": {},
   "outputs": [],
   "source": []
  }
 ],
 "metadata": {
  "kernelspec": {
   "display_name": "Python 3",
   "language": "python",
   "name": "python3"
  },
  "language_info": {
   "codemirror_mode": {
    "name": "ipython",
    "version": 3
   },
   "file_extension": ".py",
   "mimetype": "text/x-python",
   "name": "python",
   "nbconvert_exporter": "python",
   "pygments_lexer": "ipython3",
   "version": "3.9.4"
  }
 },
 "nbformat": 4,
 "nbformat_minor": 5
}
